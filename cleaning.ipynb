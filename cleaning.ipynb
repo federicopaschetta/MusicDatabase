{
 "cells": [
  {
   "cell_type": "code",
   "execution_count": 1,
   "metadata": {},
   "outputs": [],
   "source": [
    "import pandas as pd\n",
    "import numpy as np\n",
    "import os\n",
    "from PIL import Image"
   ]
  },
  {
   "cell_type": "code",
   "execution_count": 2,
   "metadata": {},
   "outputs": [],
   "source": [
    "df = pd.read_csv('songs_dict.csv')"
   ]
  },
  {
   "cell_type": "code",
   "execution_count": 3,
   "metadata": {},
   "outputs": [],
   "source": [
    "df = df.rename(columns={'Unnamed: 0': 'ID'})"
   ]
  },
  {
   "cell_type": "code",
   "execution_count": 4,
   "metadata": {},
   "outputs": [],
   "source": [
    "df = df.drop_duplicates('ID', keep='first')"
   ]
  },
  {
   "cell_type": "code",
   "execution_count": 5,
   "metadata": {},
   "outputs": [],
   "source": [
    "df.to_csv('songs_dict.csv', index=False)"
   ]
  },
  {
   "cell_type": "code",
   "execution_count": 6,
   "metadata": {},
   "outputs": [],
   "source": [
    "df.loc[:, 'Features'] = df['Features'].apply(lambda x: None if x=='[]' else x)\n",
    "df.loc[:, 'Writers'] = df['Writers'].apply(lambda x: None if x=='[]' else x)\n",
    "df.loc[:, 'Producers'] = df['Producers'].apply(lambda x: None if x=='[]' else x)\n",
    "df.loc[:, 'Album'] = df['Album'].apply(lambda x: None if pd.isna(x) else x)\n",
    "df.loc[:, 'Release_Date'] = df['Release_Date'].apply(lambda x: None if pd.isna(x) else x)"
   ]
  },
  {
   "cell_type": "code",
   "execution_count": 7,
   "metadata": {},
   "outputs": [],
   "source": [
    "import re\n",
    "def clean_features(features):\n",
    "    features = features.replace('[', '').replace(']', '')\n",
    "    pattern = r'([A-Za-z\\s]+)\\s*\\(\\d+\\)'\n",
    "    matches = re.findall(pattern, features)\n",
    "    matches = [match.strip() for match in matches]\n",
    "    return ', '.join(matches)"
   ]
  },
  {
   "cell_type": "code",
   "execution_count": 8,
   "metadata": {},
   "outputs": [],
   "source": [
    "def clean_release_date(release_date):\n",
    "        return(release_date.split(' ')[0].strip())"
   ]
  },
  {
   "cell_type": "code",
   "execution_count": 9,
   "metadata": {},
   "outputs": [],
   "source": [
    "def get_name_filepath(cover_img):\n",
    "    base_url = '/'.join(cover_img.split('/')[:-1])\n",
    "    name_file = cover_img.strip(base_url)+'.png'\n",
    "    return name_file    "
   ]
  },
  {
   "cell_type": "code",
   "execution_count": 10,
   "metadata": {},
   "outputs": [],
   "source": [
    "df.loc[:, 'Features'] = df['Features'].apply(lambda x: clean_features(x) if x is not None else x)\n",
    "df.loc[:, 'Writers'] = df['Writers'].apply(lambda x: clean_features(x) if x is not None else x)\n",
    "df.loc[:, 'Producers'] = df['Producers'].apply(lambda x: clean_features(x) if x is not None else x)\n",
    "df.loc[:, 'Release_Date'] = df['Release_Date'].apply(lambda x: clean_release_date(x) if x is not None else x)\n",
    "df.loc[:, 'Album'] = df['Album'].apply(lambda x: clean_release_date(x) if x is not None else x)\n",
    "df['Release_Year'] = df['Release_Date'].apply(lambda x: x if x==None else x.split('-')[0])\n",
    "df['Release_Month'] = df['Release_Date'].apply(lambda x: x if x==None else x.split('-')[1])\n",
    "df['Cover_Filepath'] = df['Cover_Img'].apply(get_name_filepath)"
   ]
  },
  {
   "cell_type": "code",
   "execution_count": 11,
   "metadata": {},
   "outputs": [],
   "source": [
    "df.to_csv('df_cleaned.csv', index=False)"
   ]
  },
  {
   "cell_type": "code",
   "execution_count": 12,
   "metadata": {},
   "outputs": [],
   "source": [
    "def compress_png(input_file_path, output_file_path, quality=60):\n",
    "    with Image.open(input_file_path) as img:\n",
    "        if img.mode in (\"RGBA\", \"P\"):\n",
    "            img = img.convert(\"RGB\")\n",
    "        width, height = img.size\n",
    "        new_size = (width//2, height//2)\n",
    "        img = img.resize(new_size)\n",
    "        img.save(output_file_path, format='PNG', optimize=True, quality=quality)\n"
   ]
  },
  {
   "cell_type": "code",
   "execution_count": 13,
   "metadata": {},
   "outputs": [],
   "source": [
    "import requests\n",
    "from PIL import Image\n",
    "from io import BytesIO\n",
    "import os\n",
    "\n",
    "def download_image(url, not_found_imgs):\n",
    "    save_path = 'img/'+get_name_filepath(url)\n",
    "    if not os.path.exists(save_path):\n",
    "        try:\n",
    "            response = requests.get(url)\n",
    "            if response.status_code == 200:\n",
    "                image_data = response.content\n",
    "                image = Image.open(BytesIO(image_data))\n",
    "                image.save(save_path)\n",
    "                compress_png(save_path, save_path)\n",
    "            else:\n",
    "                print(f\"{response.status_code}\")\n",
    "        except FileNotFoundError as e:\n",
    "            print(url)\n",
    "            not_found_imgs.append(url)"
   ]
  },
  {
   "cell_type": "code",
   "execution_count": 14,
   "metadata": {},
   "outputs": [
    {
     "name": "stderr",
     "output_type": "stream",
     "text": [
      "C:\\Users\\fedep\\AppData\\Local\\Programs\\Python\\Python312\\Lib\\site-packages\\PIL\\Image.py:975: UserWarning: Palette images with Transparency expressed in bytes should be converted to RGBA images\n",
      "  warnings.warn(\n"
     ]
    },
    {
     "name": "stdout",
     "output_type": "stream",
     "text": [
      "400\n"
     ]
    }
   ],
   "source": [
    "album_imgs = (list(set(df['Cover_Img'])))\n",
    "not_found_imgs = []\n",
    "for album in album_imgs[500:1000]:\n",
    "    download_image(album, not_found_imgs)"
   ]
  }
 ],
 "metadata": {
  "kernelspec": {
   "display_name": "Python 3",
   "language": "python",
   "name": "python3"
  },
  "language_info": {
   "codemirror_mode": {
    "name": "ipython",
    "version": 3
   },
   "file_extension": ".py",
   "mimetype": "text/x-python",
   "name": "python",
   "nbconvert_exporter": "python",
   "pygments_lexer": "ipython3",
   "version": "3.12.3"
  }
 },
 "nbformat": 4,
 "nbformat_minor": 2
}
