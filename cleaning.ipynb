{
 "cells": [
  {
   "cell_type": "code",
   "execution_count": 259,
   "metadata": {},
   "outputs": [],
   "source": [
    "import pandas as pd\n",
    "import numpy as np\n",
    "import os\n",
    "from PIL import Image"
   ]
  },
  {
   "cell_type": "code",
   "execution_count": 260,
   "metadata": {},
   "outputs": [],
   "source": [
    "df = pd.read_csv('songs_dict.csv')"
   ]
  },
  {
   "cell_type": "code",
   "execution_count": 261,
   "metadata": {},
   "outputs": [],
   "source": [
    "df = df.rename(columns={'Unnamed: 0': 'ID'})"
   ]
  },
  {
   "cell_type": "code",
   "execution_count": 262,
   "metadata": {},
   "outputs": [],
   "source": [
    "df = df.drop_duplicates('ID', keep='first')"
   ]
  },
  {
   "cell_type": "code",
   "execution_count": 263,
   "metadata": {},
   "outputs": [],
   "source": [
    "df.to_csv('songs_dict.csv', index=False)"
   ]
  },
  {
   "cell_type": "code",
   "execution_count": 264,
   "metadata": {},
   "outputs": [],
   "source": [
    "df.loc[:, 'Features'] = df['Features'].apply(lambda x: None if x=='[]' else x)\n",
    "df.loc[:, 'Writers'] = df['Writers'].apply(lambda x: None if x=='[]' else x)\n",
    "df.loc[:, 'Producers'] = df['Producers'].apply(lambda x: None if x=='[]' else x)\n",
    "df.loc[:, 'Album'] = df['Album'].apply(lambda x: None if pd.isna(x) else x)\n",
    "df.loc[:, 'Release_Date'] = df['Release_Date'].apply(lambda x: None if pd.isna(x) else x)"
   ]
  },
  {
   "cell_type": "code",
   "execution_count": 265,
   "metadata": {},
   "outputs": [],
   "source": [
    "import re\n",
    "def clean_list(list):\n",
    "    list = list.replace('[', '').replace(']', '').replace('(ITA)', '').replace(' & ', ', ').replace(' x ', ', ')\n",
    "    pattern = r'([\\w\\sÀ-ÿ]+)\\s*\\(\\d+\\)'\n",
    "    matches = re.findall(pattern, list)\n",
    "    matches = [match.strip() for match in matches]\n",
    "    return ', '.join(matches)"
   ]
  },
  {
   "cell_type": "code",
   "execution_count": 266,
   "metadata": {},
   "outputs": [],
   "source": [
    "def clean_release_date(release_date):\n",
    "        return(release_date.split(' ')[0].strip())"
   ]
  },
  {
   "cell_type": "code",
   "execution_count": 267,
   "metadata": {},
   "outputs": [],
   "source": [
    "def get_name_filepath(cover_img):\n",
    "    base_url = '/'.join(cover_img.split('/')[:-1])\n",
    "    name_file = cover_img.strip(base_url)+'.png'\n",
    "    return name_file    "
   ]
  },
  {
   "cell_type": "code",
   "execution_count": 268,
   "metadata": {},
   "outputs": [],
   "source": [
    "df.loc[:, 'Features'] = df['Features'].apply(lambda x: clean_list(x) if x is not None else x)\n",
    "df.loc[:, 'Writers'] = df['Writers'].apply(lambda x: clean_list(x) if x is not None else x)\n",
    "df.loc[:, 'Producers'] = df['Producers'].apply(lambda x: clean_list(x) if x is not None else x)\n",
    "df.loc[:, 'Release_Date'] = df['Release_Date'].apply(lambda x: clean_release_date(x) if x is not None else x)\n",
    "df.loc[:, 'Album'] = df['Album'].apply(lambda x: x.split(' (')[0] if x is not None else x)\n",
    "df.loc[:, 'Artist'] = df['Artist'].apply(lambda x: x.replace(' & ', ', ').replace(' x ', ', ') if x is not None else x)\n",
    "df['Release_Year'] = df['Release_Date'].apply(lambda x: x if x==None else x.split('-')[0])\n",
    "df['Release_Month'] = df['Release_Date'].apply(lambda x: x if x==None else x.split('-')[1])\n",
    "df['Cover_Filepath'] = df['Cover_Img'].apply(get_name_filepath)"
   ]
  },
  {
   "cell_type": "code",
   "execution_count": 201,
   "metadata": {},
   "outputs": [],
   "source": [
    "df.to_csv('df_cleaned.csv', index=False)"
   ]
  },
  {
   "cell_type": "markdown",
   "metadata": {},
   "source": [
    "### Getting album cover images"
   ]
  },
  {
   "cell_type": "code",
   "execution_count": 12,
   "metadata": {},
   "outputs": [],
   "source": [
    "def compress_png(input_file_path, output_file_path, quality=60):\n",
    "    with Image.open(input_file_path) as img:\n",
    "        if img.mode in (\"RGBA\", \"P\"):\n",
    "            img = img.convert(\"RGB\")\n",
    "        width, height = img.size\n",
    "        new_size = (width//2, height//2)\n",
    "        img = img.resize(new_size)\n",
    "        img.save(output_file_path, format='PNG', optimize=True, quality=quality)\n"
   ]
  },
  {
   "cell_type": "code",
   "execution_count": 13,
   "metadata": {},
   "outputs": [],
   "source": [
    "import requests\n",
    "from PIL import Image\n",
    "from io import BytesIO\n",
    "import os\n",
    "\n",
    "def download_image(url, not_found_imgs):\n",
    "    save_path = 'img/'+get_name_filepath(url)\n",
    "    if not os.path.exists(save_path):\n",
    "        try:\n",
    "            response = requests.get(url)\n",
    "            if response.status_code == 200:\n",
    "                image_data = response.content\n",
    "                image = Image.open(BytesIO(image_data))\n",
    "                image.save(save_path)\n",
    "                compress_png(save_path, save_path)\n",
    "            else:\n",
    "                print(f\"{response.status_code}\")\n",
    "        except FileNotFoundError as e:\n",
    "            print(url)\n",
    "            not_found_imgs.append(url)"
   ]
  },
  {
   "cell_type": "code",
   "execution_count": 14,
   "metadata": {},
   "outputs": [
    {
     "name": "stderr",
     "output_type": "stream",
     "text": [
      "C:\\Users\\fedep\\AppData\\Local\\Programs\\Python\\Python312\\Lib\\site-packages\\PIL\\Image.py:975: UserWarning: Palette images with Transparency expressed in bytes should be converted to RGBA images\n",
      "  warnings.warn(\n"
     ]
    },
    {
     "name": "stdout",
     "output_type": "stream",
     "text": [
      "400\n"
     ]
    }
   ],
   "source": [
    "album_imgs = (list(set(df['Cover_Img'])))\n",
    "not_found_imgs = []\n",
    "for album in album_imgs[500:1000]:\n",
    "    download_image(album, not_found_imgs)"
   ]
  },
  {
   "cell_type": "markdown",
   "metadata": {},
   "source": [
    "### Reducing df to rappers"
   ]
  },
  {
   "cell_type": "code",
   "execution_count": 307,
   "metadata": {},
   "outputs": [],
   "source": [
    "def filter_hh(artist, hip_hop_list):\n",
    "    if artist is not None:\n",
    "        artist_list = artist.split(', ')\n",
    "        for art in artist_list:\n",
    "            if art in hip_hop_list:\n",
    "                return True\n",
    "    return None"
   ]
  },
  {
   "cell_type": "code",
   "execution_count": 316,
   "metadata": {},
   "outputs": [],
   "source": [
    "hip_hop_list = []\n",
    "with open('hip-hop.txt', 'r') as hiphop_file:\n",
    "    for line in hiphop_file:\n",
    "        hip_hop_list.append(line.strip())\n",
    "\n",
    "filtered_df = df.copy()\n",
    "filtered_df = filtered_df[['Artist', 'Features']]\n",
    "filtered_df['Artist'] = filtered_df['Artist'].apply(filter_hh, hip_hop_list=hip_hop_list)\n",
    "filtered_df['Features'] = filtered_df['Features'].apply(filter_hh, hip_hop_list=hip_hop_list)\n",
    "filtered_df = filtered_df.dropna(how='all')\n",
    "hh_df = df.loc[filtered_df.index]"
   ]
  },
  {
   "cell_type": "code",
   "execution_count": 384,
   "metadata": {},
   "outputs": [],
   "source": [
    "def find_collab(df, artist1, artist2):\n",
    "    for _, row in df.iterrows():\n",
    "        if row['Features'] != None:\n",
    "            featuring_artists = row['Features'].split(', ')\n",
    "        main_artists = row['Artist'].split(', ')\n",
    "        if (artist1 in main_artists and artist2 in main_artists) or \\\n",
    "        (artist1 in featuring_artists and artist2 in featuring_artists) or \\\n",
    "        (artist1 in main_artists and artist2 in featuring_artists) or \\\n",
    "        (artist1 in featuring_artists and artist2 in main_artists):\n",
    "            return True\n",
    "        \n",
    "    return False"
   ]
  },
  {
   "cell_type": "code",
   "execution_count": 394,
   "metadata": {},
   "outputs": [],
   "source": [
    "dict_collab = {}\n",
    "for artist1 in hip_hop_list:\n",
    "    dict_collab[artist1] = set()\n",
    "    for artist2 in hip_hop_list:\n",
    "        if artist1 is not artist2 and find_collab(hh_df, artist1, artist2):\n",
    "            dict_collab[artist1].add(artist2)            "
   ]
  },
  {
   "cell_type": "code",
   "execution_count": 377,
   "metadata": {},
   "outputs": [
    {
     "ename": "KeyboardInterrupt",
     "evalue": "",
     "output_type": "error",
     "traceback": [
      "\u001b[1;31m---------------------------------------------------------------------------\u001b[0m",
      "\u001b[1;31mKeyboardInterrupt\u001b[0m                         Traceback (most recent call last)",
      "Cell \u001b[1;32mIn[377], line 18\u001b[0m\n\u001b[0;32m     15\u001b[0m                 y_sel\u001b[38;5;241m.\u001b[39mappend(act_artist)\n\u001b[0;32m     16\u001b[0m                 found \u001b[38;5;241m=\u001b[39m \u001b[38;5;28;01mTrue\u001b[39;00m\n\u001b[1;32m---> 18\u001b[0m \u001b[38;5;28mprint\u001b[39m(\u001b[43mfind_axis\u001b[49m\u001b[43m(\u001b[49m\u001b[43mhip_hop_list\u001b[49m\u001b[43m,\u001b[49m\u001b[43m \u001b[49m\u001b[43mhh_df\u001b[49m\u001b[43m)\u001b[49m)\n",
      "Cell \u001b[1;32mIn[377], line 10\u001b[0m, in \u001b[0;36mfind_axis\u001b[1;34m(hip_hop_list, df)\u001b[0m\n\u001b[0;32m      8\u001b[0m found \u001b[38;5;241m=\u001b[39m \u001b[38;5;28;01mFalse\u001b[39;00m\n\u001b[0;32m      9\u001b[0m \u001b[38;5;28;01mwhile\u001b[39;00m \u001b[38;5;129;01mnot\u001b[39;00m found:\n\u001b[1;32m---> 10\u001b[0m     act_artist \u001b[38;5;241m=\u001b[39m \u001b[43mrandom\u001b[49m\u001b[38;5;241;43m.\u001b[39;49m\u001b[43msample\u001b[49m\u001b[43m(\u001b[49m\u001b[43mhip_hop_list\u001b[49m\u001b[43m,\u001b[49m\u001b[43m \u001b[49m\u001b[38;5;241;43m1\u001b[39;49m\u001b[43m)\u001b[49m\n\u001b[0;32m     11\u001b[0m     flag_single_collab \u001b[38;5;241m=\u001b[39m \u001b[38;5;28;01mFalse\u001b[39;00m\n\u001b[0;32m     12\u001b[0m     \u001b[38;5;28;01mfor\u001b[39;00m elem \u001b[38;5;129;01min\u001b[39;00m x_sel:\n",
      "File \u001b[1;32m~\\AppData\\Local\\Programs\\Python\\Python312\\Lib\\random.py:412\u001b[0m, in \u001b[0;36mRandom.sample\u001b[1;34m(self, population, k, counts)\u001b[0m\n\u001b[0;32m    360\u001b[0m \u001b[38;5;250m\u001b[39m\u001b[38;5;124;03m\"\"\"Chooses k unique random elements from a population sequence.\u001b[39;00m\n\u001b[0;32m    361\u001b[0m \n\u001b[0;32m    362\u001b[0m \u001b[38;5;124;03mReturns a new list containing elements from the population while\u001b[39;00m\n\u001b[1;32m   (...)\u001b[0m\n\u001b[0;32m    386\u001b[0m \n\u001b[0;32m    387\u001b[0m \u001b[38;5;124;03m\"\"\"\u001b[39;00m\n\u001b[0;32m    389\u001b[0m \u001b[38;5;66;03m# Sampling without replacement entails tracking either potential\u001b[39;00m\n\u001b[0;32m    390\u001b[0m \u001b[38;5;66;03m# selections (the pool) in a list or previous selections in a set.\u001b[39;00m\n\u001b[0;32m    391\u001b[0m \n\u001b[1;32m   (...)\u001b[0m\n\u001b[0;32m    409\u001b[0m \u001b[38;5;66;03m# too many calls to _randbelow(), making them slower and\u001b[39;00m\n\u001b[0;32m    410\u001b[0m \u001b[38;5;66;03m# causing them to eat more entropy than necessary.\u001b[39;00m\n\u001b[1;32m--> 412\u001b[0m \u001b[38;5;28;01mif\u001b[39;00m \u001b[38;5;129;01mnot\u001b[39;00m \u001b[38;5;28;43misinstance\u001b[39;49m\u001b[43m(\u001b[49m\u001b[43mpopulation\u001b[49m\u001b[43m,\u001b[49m\u001b[43m \u001b[49m\u001b[43m_Sequence\u001b[49m\u001b[43m)\u001b[49m:\n\u001b[0;32m    413\u001b[0m     \u001b[38;5;28;01mraise\u001b[39;00m \u001b[38;5;167;01mTypeError\u001b[39;00m(\u001b[38;5;124m\"\u001b[39m\u001b[38;5;124mPopulation must be a sequence.  \u001b[39m\u001b[38;5;124m\"\u001b[39m\n\u001b[0;32m    414\u001b[0m                     \u001b[38;5;124m\"\u001b[39m\u001b[38;5;124mFor dicts or sets, use sorted(d).\u001b[39m\u001b[38;5;124m\"\u001b[39m)\n\u001b[0;32m    415\u001b[0m n \u001b[38;5;241m=\u001b[39m \u001b[38;5;28mlen\u001b[39m(population)\n",
      "File \u001b[1;32m<frozen abc>:117\u001b[0m, in \u001b[0;36m__instancecheck__\u001b[1;34m(cls, instance)\u001b[0m\n",
      "\u001b[1;31mKeyboardInterrupt\u001b[0m: "
     ]
    }
   ],
   "source": [
    "import random\n",
    "def find_axis(hip_hop_list, df, dict_collab):\n",
    "    x_sel = random.sample(hip_hop_list, 3)\n",
    "    hip_hop_list = [elem for elem in hip_hop_list if elem not in x_sel]\n",
    "    y_sel = []\n",
    "    common = dict_collab[]\n",
    "    while len(y_sel)<3:\n",
    "        curr_art = random.sample(hip_hop_list, 1)\n",
    "\n",
    "print(find_axis(hip_hop_list, hh_df, dict_collab))"
   ]
  }
 ],
 "metadata": {
  "kernelspec": {
   "display_name": "Python 3",
   "language": "python",
   "name": "python3"
  },
  "language_info": {
   "codemirror_mode": {
    "name": "ipython",
    "version": 3
   },
   "file_extension": ".py",
   "mimetype": "text/x-python",
   "name": "python",
   "nbconvert_exporter": "python",
   "pygments_lexer": "ipython3",
   "version": "3.12.3"
  }
 },
 "nbformat": 4,
 "nbformat_minor": 2
}
