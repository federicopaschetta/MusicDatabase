{
 "cells": [
  {
   "cell_type": "code",
   "execution_count": 44,
   "metadata": {},
   "outputs": [],
   "source": [
    "import pandas as pd \n",
    "from selenium import webdriver\n",
    "from selenium.webdriver.common.by import By \n",
    "import time\n",
    "import lyricsgenius"
   ]
  },
  {
   "cell_type": "code",
   "execution_count": 2,
   "metadata": {},
   "outputs": [],
   "source": [
    "def init_driver():\n",
    "    driver = webdriver.Firefox()\n",
    "    return driver"
   ]
  },
  {
   "cell_type": "code",
   "execution_count": null,
   "metadata": {},
   "outputs": [],
   "source": [
    "driver = init_driver()"
   ]
  },
  {
   "cell_type": "markdown",
   "metadata": {},
   "source": [
    "### Getting all artists from canzoni.it"
   ]
  },
  {
   "cell_type": "code",
   "execution_count": 33,
   "metadata": {},
   "outputs": [],
   "source": [
    "def get_artists(driver):\n",
    "    artists_list = []\n",
    "    web_link = 'https://www.canzoni.it/artisti/cantanti/italiani/'\n",
    "    for char in range(97, 123):\n",
    "        driver.get(web_link+chr(char))\n",
    "        lists = driver.find_elements(By.CSS_SELECTOR, 'ul.ul_freccia')\n",
    "        for list in lists:\n",
    "            els = list.find_elements(By.CSS_SELECTOR, 'li a')   \n",
    "            for el in els:\n",
    "                artists_list.append(el.text)    \n",
    "    return artists_list"
   ]
  },
  {
   "cell_type": "code",
   "execution_count": 34,
   "metadata": {},
   "outputs": [],
   "source": [
    "artists_list = get_artists(driver)"
   ]
  },
  {
   "cell_type": "code",
   "execution_count": 36,
   "metadata": {},
   "outputs": [],
   "source": [
    "with open('artists_list.txt', 'w') as artists_file:\n",
    "    for artist in artists_list:\n",
    "        artists_file.write(artist+'\\n')"
   ]
  },
  {
   "cell_type": "markdown",
   "metadata": {},
   "source": [
    "### Getting each artist albums and songs from Genius"
   ]
  },
  {
   "cell_type": "code",
   "execution_count": 37,
   "metadata": {},
   "outputs": [],
   "source": [
    "from genius import Genius\n",
    "g = Genius(access_token='JM0ShY3X3lUnih5cEfdJr60wQZ6Pgh4GerRQb8pOqI4yNlFJaUE8v0u0mm9hU_zA')"
   ]
  },
  {
   "cell_type": "code",
   "execution_count": 279,
   "metadata": {},
   "outputs": [],
   "source": [
    "def fill_artists_list():\n",
    "    artists_list = []\n",
    "    with open('artists_list.txt', 'r', encoding='utf-8') as file_artists:\n",
    "        for line in file_artists:\n",
    "            artists_list.append(line.strip())\n",
    "    return artists_list"
   ]
  },
  {
   "cell_type": "code",
   "execution_count": 478,
   "metadata": {},
   "outputs": [],
   "source": [
    "def get_songs_dict(artists_list, dict_songs, not_found):\n",
    "    for artist in artists_list:\n",
    "        try:\n",
    "            gen_artist = g.search_artist(artist)\n",
    "            print(artist)\n",
    "            for song in gen_artist.songs:\n",
    "                if song not in dict_songs:\n",
    "                    song_info = {}\n",
    "                    song_info['Title'] = song.title\n",
    "                    song_info['Artist'] = song.artist.name\n",
    "                    song_info['Features'] = song.features\n",
    "                    song_info['Album'] = song.album\n",
    "                    song_info['Release_Date'] = song.release_date\n",
    "                    song_info['Producers'] = song.producers\n",
    "                    song_info['Writers'] = song.writers\n",
    "                    song_info['Cover_Img'] = song.song_art_image_url\n",
    "                    dict_songs[song] = song_info\n",
    "                    print(song)\n",
    "                    \n",
    "        except Exception as exc:\n",
    "            print(exc)\n",
    "            print('Not Found', artist)\n",
    "            not_found.append(artist)\n",
    "            continue\n",
    "    return dict_songs, not_found"
   ]
  },
  {
   "cell_type": "code",
   "execution_count": 401,
   "metadata": {},
   "outputs": [],
   "source": [
    "artists_list = fill_artists_list()"
   ]
  },
  {
   "cell_type": "code",
   "execution_count": null,
   "metadata": {},
   "outputs": [],
   "source": [
    "songs_dict, not_found = get_songs_dict(artists_list, songs_dict, not_found)"
   ]
  },
  {
   "cell_type": "code",
   "execution_count": 482,
   "metadata": {},
   "outputs": [],
   "source": [
    "pd.DataFrame(songs_dict).T.to_csv('songs_dict.csv')"
   ]
  },
  {
   "cell_type": "code",
   "execution_count": 360,
   "metadata": {},
   "outputs": [],
   "source": [
    "def write_not_found(not_found):\n",
    "    with open('not_found.txt', 'w') as f:\n",
    "        for name in not_found:\n",
    "            f.write(name+'\\n')"
   ]
  },
  {
   "cell_type": "code",
   "execution_count": 431,
   "metadata": {},
   "outputs": [],
   "source": [
    "write_not_found(not_found)"
   ]
  }
 ],
 "metadata": {
  "kernelspec": {
   "display_name": "Python 3",
   "language": "python",
   "name": "python3"
  },
  "language_info": {
   "codemirror_mode": {
    "name": "ipython",
    "version": 3
   },
   "file_extension": ".py",
   "mimetype": "text/x-python",
   "name": "python",
   "nbconvert_exporter": "python",
   "pygments_lexer": "ipython3",
   "version": "3.12.3"
  }
 },
 "nbformat": 4,
 "nbformat_minor": 2
}
